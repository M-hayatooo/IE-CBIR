{
 "cells": [
  {
   "cell_type": "code",
   "execution_count": 2,
   "id": "966761ac-ee13-47e3-80d0-0bce7b7d18cd",
   "metadata": {},
   "outputs": [],
   "source": [
    "from tqdm import tqdm\n",
    "import numpy as np\n",
    "import pandas as pd\n",
    "import seaborn as sns\n",
    "import matplotlib.pyplot as plt\n",
    "from sklearn.model_selection import StratifiedGroupKFold\n",
    "import torch\n",
    "import torchio as tio\n",
    "\n",
    "from torch.utils.data import DataLoader\n",
    "\n",
    "import torch.optim as optim\n",
    "from torch.cuda.amp import GradScaler, autocast\n",
    "\n",
    "from sklearn.metrics import confusion_matrix\n",
    "from sklearn.metrics import f1_score, accuracy_score"
   ]
  },
  {
   "cell_type": "code",
   "execution_count": 3,
   "id": "6db0dce2",
   "metadata": {},
   "outputs": [],
   "source": [
    "from load_adni.load_adni import load_adni3, load_adni2, load_adni1\n",
    "# from load_adni.load_oasis import load_oasis1, load_oasis2, load_oasis3, load_oasis4\n",
    "# from utils.load_seg import load_seg\n",
    "SEED_VALUE = 103"
   ]
  },
  {
   "cell_type": "code",
   "execution_count": 4,
   "id": "53c6f7f7-9bd2-4d9c-b407-552030e66e1e",
   "metadata": {},
   "outputs": [
    {
     "name": "stderr",
     "output_type": "stream",
     "text": [
      "100%|██████████| 4138/4138 [02:41<00:00, 25.62it/s]\n"
     ]
    }
   ],
   "source": [
    "data = load_adni2(classes={\"AD\",\"CN\"}, size=\"half\", unique=False, mni=False, dryrun=False)"
   ]
  },
  {
   "cell_type": "code",
   "execution_count": 5,
   "id": "af251457-c244-4aff-ba24-6d5366c64722",
   "metadata": {},
   "outputs": [],
   "source": [
    "device = torch.device(\"cuda\", 3) if torch.cuda.is_available() else \"cpu\"\n",
    "class_dict = {\"CN\":0,\"AD\":1}\n",
    "voxels = [d[\"voxel\"] for d in data]\n",
    "labels = [class_dict[d[\"class\"]] for d in data]\n",
    "pids = [d[\"pid\"] for d in data]"
   ]
  },
  {
   "cell_type": "code",
   "execution_count": 6,
   "id": "ec046a58-1154-4851-96aa-5de3ddd4a722",
   "metadata": {},
   "outputs": [],
   "source": [
    "sgkf = StratifiedGroupKFold(n_splits=5, shuffle=True, random_state=SEED_VALUE)\n",
    "tid, vid = list(sgkf.split(voxels, labels, pids))[0]\n",
    "tvoxels = [voxels[i] for i in tid]\n",
    "tlabels = [labels[i] for i in tid]\n",
    "vvoxels = [voxels[i] for i in vid]\n",
    "vlabels = [labels[i] for i in vid]"
   ]
  },
  {
   "cell_type": "code",
   "execution_count": 9,
   "id": "02216e3c-eae9-4066-8328-32252cc15e11",
   "metadata": {},
   "outputs": [],
   "source": [
    "from torch.utils.data import Dataset\n",
    "\n",
    "\n",
    "class BrainDataset(Dataset):\n",
    "    def __init__(self, voxels, labels, transform=None):\n",
    "        self.voxels = [self.preprocessing(voxel) for voxel in tqdm(voxels)]\n",
    "        self.labels = labels\n",
    "        self.transform = transform # data aug 追加\n",
    "\n",
    "    def _normalize(self, x):\n",
    "        return (x - np.min(x)) / (np.max(x) - np.min(x))\n",
    "    def preprocessing(self, voxel):\n",
    "        nonzero = voxel[voxel>0]\n",
    "        voxel = np.clip(voxel, 0, np.mean(nonzero)+3*np.std(nonzero))\n",
    "        voxel = self._normalize(voxel)\n",
    "        return voxel\n",
    "    def __len__(self):\n",
    "        return len(self.voxels)\n",
    "    \n",
    "    def __getitem__(self, idx):\n",
    "        voxel = self.voxels[idx]\n",
    "        label = self.labels[idx]\n",
    "        if self.transform:\n",
    "            voxel = self.transform(voxel)\n",
    "        return voxel[np.newaxis].astype(\"float32\"), label"
   ]
  },
  {
   "cell_type": "code",
   "execution_count": 11,
   "id": "e173eae5",
   "metadata": {},
   "outputs": [
    {
     "name": "stdout",
     "output_type": "stream",
     "text": [
      "fold number=4   Augment=True  "
     ]
    },
    {
     "name": "stderr",
     "output_type": "stream",
     "text": [
      "100%|██████████| 3280/3280 [00:20<00:00, 159.99it/s]\n",
      "100%|██████████| 858/858 [00:05<00:00, 161.39it/s]"
     ]
    },
    {
     "name": "stdout",
     "output_type": "stream",
     "text": [
      "batch size:32  "
     ]
    },
    {
     "name": "stderr",
     "output_type": "stream",
     "text": [
      "\n"
     ]
    }
   ],
   "source": [
    "split_index = 4\n",
    "augment_flag = True\n",
    "batch_size = 32\n",
    "print(f\"fold number={split_index}   Augment={augment_flag}\", end=\"  \")\n",
    "if augment_flag: # TrueならAugmentation実行, Falseなら実行しない\n",
    "    spatial_transforms = {# soft-introだと30°は回転の影響が大き過ぎるかも\n",
    "        tio.transforms.RandomAffine(degrees=(5.0, 0.0, 0.0)): 0.340,\n",
    "        tio.transforms.RandomAffine(degrees=(0.0, 5.0, 0.0)): 0.330,\n",
    "        tio.transforms.RandomAffine(degrees=(0.0, 0.0, 5.0)): 0.330,\n",
    "    }\n",
    "    transform = tio.Compose([\n",
    "        tio.OneOf(spatial_transforms, p=0.6),\n",
    "    ])\n",
    "    train_dataset = BrainDataset(tvoxels, tlabels, transform=transform,)\n",
    "    val_dataset = BrainDataset(vvoxels, vlabels, transform=None,)\n",
    "else:\n",
    "    train_dataset = BrainDataset(tvoxels, tlabels, transform=None,)\n",
    "    val_dataset = BrainDataset(vvoxels, vlabels, transform=None,)\n",
    "\n",
    "\n",
    "g = torch.Generator()\n",
    "g.manual_seed(SEED_VALUE)\n",
    "\n",
    "print(f\"batch size:{batch_size}\", end=\"  \")\n"
   ]
  },
  {
   "cell_type": "code",
   "execution_count": 12,
   "id": "0797bf7c-1313-4b0f-b8a6-281455de508f",
   "metadata": {},
   "outputs": [],
   "source": [
    "# train_dataset = BrainDataset(tvoxels, tlabels)\n",
    "# val_dataset = BrainDataset(vvoxels[:10], vlabels[:10])"
   ]
  },
  {
   "cell_type": "code",
   "execution_count": 13,
   "id": "7bc9b2b1-9a11-4ee6-a29e-915190bfd749",
   "metadata": {},
   "outputs": [],
   "source": [
    "train_loader = DataLoader(\n",
    "    train_dataset,\n",
    "    batch_size=32,\n",
    "    shuffle=True,\n",
    "    num_workers=4,\n",
    "    pin_memory=True,\n",
    ")\n",
    "val_loader = DataLoader(\n",
    "    val_dataset,\n",
    "    batch_size=32,\n",
    "    shuffle=False,\n",
    "    num_workers=4,\n",
    "    pin_memory=True,\n",
    ")"
   ]
  },
  {
   "cell_type": "code",
   "execution_count": 14,
   "id": "ef07628b-8314-488d-be3d-e039606aa5d1",
   "metadata": {},
   "outputs": [],
   "source": [
    "import torch.nn as nn\n",
    "import torch.nn.functional as F\n",
    "\n",
    "\n",
    "class Block(nn.Module):\n",
    "    def __init__(self, in_ch, out_ch, pool=True):\n",
    "        super(Block, self).__init__()\n",
    "        self.block = nn.Sequential(\n",
    "            nn.Conv3d(in_ch, out_ch, kernel_size=3, stride=1, padding=1, bias=False),\n",
    "            nn.BatchNorm3d(out_ch),\n",
    "            nn.ReLU(inplace=True),\n",
    "        )\n",
    "        self.pool = nn.MaxPool3d(2,2)\n",
    "    def forward(self, x):\n",
    "        if self.pool:\n",
    "            return self.pool(self.block(x))\n",
    "        else:\n",
    "            return self.block(x)\n",
    "        \n",
    "class CNN(nn.Module):\n",
    "    def __init__(self):\n",
    "        super(CNN, self).__init__()\n",
    "\n",
    "        self.blocks1 = Block(1, 3)\n",
    "        self.blocks2 = Block(3, 3)\n",
    "        self.blocks3 = Block(3, 8)\n",
    "        self.blocks4 = Block(8, 8)\n",
    "        \n",
    "        self.fc1 = nn.Linear(5 * 7 * 5 * 8, 64)\n",
    "        self.fc2 = nn.Linear(64, 2)\n",
    "        self.dropout = nn.Dropout(p=0.5)\n",
    "        \n",
    "    def forward(self, x):\n",
    "        x = self.blocks1(x)\n",
    "        x = self.blocks2(x)\n",
    "        x = self.blocks3(x)\n",
    "        x = self.blocks4(x)\n",
    "        _, c, h, w, z = x.shape\n",
    "        x = x.view(-1, h * w * z * c)\n",
    "        x = self.fc1(self.dropout(x))\n",
    "        x = self.fc2(self.dropout(x))\n",
    "        return x"
   ]
  },
  {
   "cell_type": "code",
   "execution_count": 15,
   "id": "8b39e133-4d14-4438-b21f-9bc93ea94d46",
   "metadata": {},
   "outputs": [],
   "source": [
    "model = CNN()\n",
    "#model.load_state_dict(torch.load(\"result/model.pth\"))\n",
    "model.to(device)\n",
    "optimizer = optim.Adam(model.parameters(), lr=0.001)\n",
    "criterion = nn.CrossEntropyLoss()\n",
    "scaler = GradScaler(enabled=True)"
   ]
  },
  {
   "cell_type": "code",
   "execution_count": 16,
   "id": "3da1192d-aeb0-4fb2-8536-c0fe558904cf",
   "metadata": {},
   "outputs": [
    {
     "name": "stderr",
     "output_type": "stream",
     "text": [
      "  0%|          | 0/100 [00:00<?, ?it/s]\n"
     ]
    },
    {
     "ename": "ValueError",
     "evalue": "Caught ValueError in DataLoader worker process 0.\nOriginal Traceback (most recent call last):\n  File \"/home/lucky/.pyenv/versions/3.8.8/envs/brain/lib/python3.8/site-packages/torch/utils/data/_utils/worker.py\", line 308, in _worker_loop\n    data = fetcher.fetch(index)\n  File \"/home/lucky/.pyenv/versions/3.8.8/envs/brain/lib/python3.8/site-packages/torch/utils/data/_utils/fetch.py\", line 51, in fetch\n    data = [self.dataset[idx] for idx in possibly_batched_index]\n  File \"/home/lucky/.pyenv/versions/3.8.8/envs/brain/lib/python3.8/site-packages/torch/utils/data/_utils/fetch.py\", line 51, in <listcomp>\n    data = [self.dataset[idx] for idx in possibly_batched_index]\n  File \"/tmp/ipykernel_38434/4187143926.py\", line 24, in __getitem__\n    voxel = self.transform(voxel)\n  File \"/home/lucky/.pyenv/versions/3.8.8/envs/brain/lib/python3.8/site-packages/torchio/transforms/transform.py\", line 150, in __call__\n    transformed = self.apply_transform(subject)\n  File \"/home/lucky/.pyenv/versions/3.8.8/envs/brain/lib/python3.8/site-packages/torchio/transforms/augmentation/composition.py\", line 47, in apply_transform\n    subject = transform(subject)\n  File \"/home/lucky/.pyenv/versions/3.8.8/envs/brain/lib/python3.8/site-packages/torchio/transforms/transform.py\", line 150, in __call__\n    transformed = self.apply_transform(subject)\n  File \"/home/lucky/.pyenv/versions/3.8.8/envs/brain/lib/python3.8/site-packages/torchio/transforms/augmentation/composition.py\", line 109, in apply_transform\n    transformed = transform(subject)\n  File \"/home/lucky/.pyenv/versions/3.8.8/envs/brain/lib/python3.8/site-packages/torchio/transforms/transform.py\", line 139, in __call__\n    subject = data_parser.get_subject()\n  File \"/home/lucky/.pyenv/versions/3.8.8/envs/brain/lib/python3.8/site-packages/torchio/transforms/data_parser.py\", line 56, in get_subject\n    subject = self._parse_tensor(self.data)\n  File \"/home/lucky/.pyenv/versions/3.8.8/envs/brain/lib/python3.8/site-packages/torchio/transforms/data_parser.py\", line 116, in _parse_tensor\n    raise ValueError(message)\nValueError: The input must be a 4D tensor with dimensions (channels, x, y, z) but it has shape (80, 112, 80). Tips: if it is a volume, please add the channels dimension; if it is 2D, also add a dimension of size 1 for the z axis\n",
     "output_type": "error",
     "traceback": [
      "\u001b[0;31m---------------------------------------------------------------------------\u001b[0m",
      "\u001b[0;31mValueError\u001b[0m                                Traceback (most recent call last)",
      "Input \u001b[0;32mIn [16]\u001b[0m, in \u001b[0;36m<cell line: 3>\u001b[0;34m()\u001b[0m\n\u001b[1;32m      5\u001b[0m vrun_loss \u001b[38;5;241m=\u001b[39m \u001b[38;5;241m0\u001b[39m\n\u001b[1;32m      6\u001b[0m model\u001b[38;5;241m.\u001b[39mtrain()\n\u001b[0;32m----> 7\u001b[0m \u001b[38;5;28;01mfor\u001b[39;00m voxels, labels \u001b[38;5;129;01min\u001b[39;00m train_loader:\n\u001b[1;32m      8\u001b[0m     voxels \u001b[38;5;241m=\u001b[39m voxels\u001b[38;5;241m.\u001b[39mto(device)\n\u001b[1;32m      9\u001b[0m     labels \u001b[38;5;241m=\u001b[39m labels\u001b[38;5;241m.\u001b[39mto(device)\n",
      "File \u001b[0;32m~/.pyenv/versions/3.8.8/envs/brain/lib/python3.8/site-packages/torch/utils/data/dataloader.py:630\u001b[0m, in \u001b[0;36m_BaseDataLoaderIter.__next__\u001b[0;34m(self)\u001b[0m\n\u001b[1;32m    627\u001b[0m \u001b[38;5;28;01mif\u001b[39;00m \u001b[38;5;28mself\u001b[39m\u001b[38;5;241m.\u001b[39m_sampler_iter \u001b[38;5;129;01mis\u001b[39;00m \u001b[38;5;28;01mNone\u001b[39;00m:\n\u001b[1;32m    628\u001b[0m     \u001b[38;5;66;03m# TODO(https://github.com/pytorch/pytorch/issues/76750)\u001b[39;00m\n\u001b[1;32m    629\u001b[0m     \u001b[38;5;28mself\u001b[39m\u001b[38;5;241m.\u001b[39m_reset()  \u001b[38;5;66;03m# type: ignore[call-arg]\u001b[39;00m\n\u001b[0;32m--> 630\u001b[0m data \u001b[38;5;241m=\u001b[39m \u001b[38;5;28;43mself\u001b[39;49m\u001b[38;5;241;43m.\u001b[39;49m\u001b[43m_next_data\u001b[49m\u001b[43m(\u001b[49m\u001b[43m)\u001b[49m\n\u001b[1;32m    631\u001b[0m \u001b[38;5;28mself\u001b[39m\u001b[38;5;241m.\u001b[39m_num_yielded \u001b[38;5;241m+\u001b[39m\u001b[38;5;241m=\u001b[39m \u001b[38;5;241m1\u001b[39m\n\u001b[1;32m    632\u001b[0m \u001b[38;5;28;01mif\u001b[39;00m \u001b[38;5;28mself\u001b[39m\u001b[38;5;241m.\u001b[39m_dataset_kind \u001b[38;5;241m==\u001b[39m _DatasetKind\u001b[38;5;241m.\u001b[39mIterable \u001b[38;5;129;01mand\u001b[39;00m \\\n\u001b[1;32m    633\u001b[0m         \u001b[38;5;28mself\u001b[39m\u001b[38;5;241m.\u001b[39m_IterableDataset_len_called \u001b[38;5;129;01mis\u001b[39;00m \u001b[38;5;129;01mnot\u001b[39;00m \u001b[38;5;28;01mNone\u001b[39;00m \u001b[38;5;129;01mand\u001b[39;00m \\\n\u001b[1;32m    634\u001b[0m         \u001b[38;5;28mself\u001b[39m\u001b[38;5;241m.\u001b[39m_num_yielded \u001b[38;5;241m>\u001b[39m \u001b[38;5;28mself\u001b[39m\u001b[38;5;241m.\u001b[39m_IterableDataset_len_called:\n",
      "File \u001b[0;32m~/.pyenv/versions/3.8.8/envs/brain/lib/python3.8/site-packages/torch/utils/data/dataloader.py:1345\u001b[0m, in \u001b[0;36m_MultiProcessingDataLoaderIter._next_data\u001b[0;34m(self)\u001b[0m\n\u001b[1;32m   1343\u001b[0m \u001b[38;5;28;01melse\u001b[39;00m:\n\u001b[1;32m   1344\u001b[0m     \u001b[38;5;28;01mdel\u001b[39;00m \u001b[38;5;28mself\u001b[39m\u001b[38;5;241m.\u001b[39m_task_info[idx]\n\u001b[0;32m-> 1345\u001b[0m     \u001b[38;5;28;01mreturn\u001b[39;00m \u001b[38;5;28;43mself\u001b[39;49m\u001b[38;5;241;43m.\u001b[39;49m\u001b[43m_process_data\u001b[49m\u001b[43m(\u001b[49m\u001b[43mdata\u001b[49m\u001b[43m)\u001b[49m\n",
      "File \u001b[0;32m~/.pyenv/versions/3.8.8/envs/brain/lib/python3.8/site-packages/torch/utils/data/dataloader.py:1371\u001b[0m, in \u001b[0;36m_MultiProcessingDataLoaderIter._process_data\u001b[0;34m(self, data)\u001b[0m\n\u001b[1;32m   1369\u001b[0m \u001b[38;5;28mself\u001b[39m\u001b[38;5;241m.\u001b[39m_try_put_index()\n\u001b[1;32m   1370\u001b[0m \u001b[38;5;28;01mif\u001b[39;00m \u001b[38;5;28misinstance\u001b[39m(data, ExceptionWrapper):\n\u001b[0;32m-> 1371\u001b[0m     \u001b[43mdata\u001b[49m\u001b[38;5;241;43m.\u001b[39;49m\u001b[43mreraise\u001b[49m\u001b[43m(\u001b[49m\u001b[43m)\u001b[49m\n\u001b[1;32m   1372\u001b[0m \u001b[38;5;28;01mreturn\u001b[39;00m data\n",
      "File \u001b[0;32m~/.pyenv/versions/3.8.8/envs/brain/lib/python3.8/site-packages/torch/_utils.py:694\u001b[0m, in \u001b[0;36mExceptionWrapper.reraise\u001b[0;34m(self)\u001b[0m\n\u001b[1;32m    690\u001b[0m \u001b[38;5;28;01mexcept\u001b[39;00m \u001b[38;5;167;01mTypeError\u001b[39;00m:\n\u001b[1;32m    691\u001b[0m     \u001b[38;5;66;03m# If the exception takes multiple arguments, don't try to\u001b[39;00m\n\u001b[1;32m    692\u001b[0m     \u001b[38;5;66;03m# instantiate since we don't know how to\u001b[39;00m\n\u001b[1;32m    693\u001b[0m     \u001b[38;5;28;01mraise\u001b[39;00m \u001b[38;5;167;01mRuntimeError\u001b[39;00m(msg) \u001b[38;5;28;01mfrom\u001b[39;00m \u001b[38;5;28mNone\u001b[39m\n\u001b[0;32m--> 694\u001b[0m \u001b[38;5;28;01mraise\u001b[39;00m exception\n",
      "\u001b[0;31mValueError\u001b[0m: Caught ValueError in DataLoader worker process 0.\nOriginal Traceback (most recent call last):\n  File \"/home/lucky/.pyenv/versions/3.8.8/envs/brain/lib/python3.8/site-packages/torch/utils/data/_utils/worker.py\", line 308, in _worker_loop\n    data = fetcher.fetch(index)\n  File \"/home/lucky/.pyenv/versions/3.8.8/envs/brain/lib/python3.8/site-packages/torch/utils/data/_utils/fetch.py\", line 51, in fetch\n    data = [self.dataset[idx] for idx in possibly_batched_index]\n  File \"/home/lucky/.pyenv/versions/3.8.8/envs/brain/lib/python3.8/site-packages/torch/utils/data/_utils/fetch.py\", line 51, in <listcomp>\n    data = [self.dataset[idx] for idx in possibly_batched_index]\n  File \"/tmp/ipykernel_38434/4187143926.py\", line 24, in __getitem__\n    voxel = self.transform(voxel)\n  File \"/home/lucky/.pyenv/versions/3.8.8/envs/brain/lib/python3.8/site-packages/torchio/transforms/transform.py\", line 150, in __call__\n    transformed = self.apply_transform(subject)\n  File \"/home/lucky/.pyenv/versions/3.8.8/envs/brain/lib/python3.8/site-packages/torchio/transforms/augmentation/composition.py\", line 47, in apply_transform\n    subject = transform(subject)\n  File \"/home/lucky/.pyenv/versions/3.8.8/envs/brain/lib/python3.8/site-packages/torchio/transforms/transform.py\", line 150, in __call__\n    transformed = self.apply_transform(subject)\n  File \"/home/lucky/.pyenv/versions/3.8.8/envs/brain/lib/python3.8/site-packages/torchio/transforms/augmentation/composition.py\", line 109, in apply_transform\n    transformed = transform(subject)\n  File \"/home/lucky/.pyenv/versions/3.8.8/envs/brain/lib/python3.8/site-packages/torchio/transforms/transform.py\", line 139, in __call__\n    subject = data_parser.get_subject()\n  File \"/home/lucky/.pyenv/versions/3.8.8/envs/brain/lib/python3.8/site-packages/torchio/transforms/data_parser.py\", line 56, in get_subject\n    subject = self._parse_tensor(self.data)\n  File \"/home/lucky/.pyenv/versions/3.8.8/envs/brain/lib/python3.8/site-packages/torchio/transforms/data_parser.py\", line 116, in _parse_tensor\n    raise ValueError(message)\nValueError: The input must be a 4D tensor with dimensions (channels, x, y, z) but it has shape (80, 112, 80). Tips: if it is a volume, please add the channels dimension; if it is 2D, also add a dimension of size 1 for the z axis\n"
     ]
    }
   ],
   "source": [
    "tlosses = []\n",
    "vlosses = []\n",
    "for epoch in tqdm(range(100)):\n",
    "    trun_loss = 0\n",
    "    vrun_loss = 0\n",
    "    model.train()\n",
    "    for voxels, labels in train_loader:\n",
    "        voxels = voxels.to(device)\n",
    "        labels = labels.to(device)\n",
    "        optimizer.zero_grad()\n",
    "        with autocast(enabled=True):\n",
    "            pred = model(voxels)\n",
    "            loss = criterion(pred, labels)\n",
    "        scaler.scale(loss).backward()\n",
    "        scaler.step(optimizer)\n",
    "        scaler.update()\n",
    "        trun_loss+=loss.item()\n",
    "    trun_loss/=len(train_loader)\n",
    "    tlosses.append(trun_loss)\n",
    "\n",
    "    model.eval()\n",
    "    for voxels, labels in val_loader:\n",
    "        voxels = voxels.to(device)\n",
    "        labels = labels.to(device)\n",
    "        with autocast(enabled=True):\n",
    "            pred = model(voxels)\n",
    "            loss = criterion(pred, labels)\n",
    "        vrun_loss+=loss.item()\n",
    "    vrun_loss/=len(val_loader)\n",
    "    vlosses.append(vrun_loss)\n",
    "\n",
    "    if epoch % 10 == 0:\n",
    "        print(trun_loss)\n",
    "        print(vrun_loss)"
   ]
  },
  {
   "cell_type": "code",
   "execution_count": 12,
   "id": "429c1660-e6bf-4c1f-8a50-4cc82cd92456",
   "metadata": {},
   "outputs": [],
   "source": [
    "torch.save(model.cpu().state_dict(), \"result/ADCN.pth\")"
   ]
  },
  {
   "cell_type": "code",
   "execution_count": 30,
   "id": "240131ff-dca6-4ee1-825d-a31f1c877fff",
   "metadata": {},
   "outputs": [
    {
     "name": "stderr",
     "output_type": "stream",
     "text": [
      "100%|███████████████████████████████████████████████████████████████████████████████████████████████████████████████████████████████████████████████| 139/139 [00:01<00:00, 88.40it/s]\n"
     ]
    }
   ],
   "source": [
    "def normalize(x):\n",
    "    return (x - np.min(x)) / (np.max(x) - np.min(x))\n",
    "\n",
    "pred_list = []\n",
    "model.to(device)\n",
    "model.eval()\n",
    "for voxel in tqdm(vvoxels):\n",
    "    voxel = np.clip(voxel, 0, 4*np.std(voxel))\n",
    "    voxel = normalize(voxel)[np.newaxis][np.newaxis].astype(\"float32\")\n",
    "    voxel = torch.tensor(voxel, requires_grad=False).to(device)\n",
    "    pred = model(voxel).cpu().detach().numpy()\n",
    "    pred = np.argmax(pred)\n",
    "    pred_list.append(pred)"
   ]
  },
  {
   "cell_type": "code",
   "execution_count": 31,
   "id": "69bec6a8-ec67-4e6b-a251-f25bc4689046",
   "metadata": {},
   "outputs": [
    {
     "name": "stdout",
     "output_type": "stream",
     "text": [
      "0.7675459891028753\n",
      "0.7769784172661871\n"
     ]
    },
    {
     "data": {
      "image/png": "[encoded data removed]",
      "text/plain": [
       "<Figure size 640x480 with 2 Axes>"
      ]
     },
     "metadata": {},
     "output_type": "display_data"
    }
   ],
   "source": [
    "cm = confusion_matrix(vlabels, pred_list)\n",
    "cm = pd.DataFrame(data=cm, index=[\"CN\", \"AD\"], columns=[\"CN\", \"AD\"])\n",
    "sns.heatmap(cm, annot=True, fmt=\"d\", cmap='Blues')\n",
    "plt.xlabel(\"pred\")\n",
    "plt.ylabel(\"label\")\n",
    "print(f1_score(vlabels, pred_list, average=\"macro\"))\n",
    "print(accuracy_score(vlabels, pred_list))"
   ]
  },
  {
   "cell_type": "code",
   "execution_count": 32,
   "id": "1464039d-8aea-4159-a49c-b75163e34f3e",
   "metadata": {},
   "outputs": [
    {
     "data": {
      "text/plain": [
       "[<matplotlib.lines.Line2D at 0x7f5b30da0460>]"
      ]
     },
     "execution_count": 32,
     "metadata": {},
     "output_type": "execute_result"
    },
    {
     "data": {
      "image/png": "[encoded data removed]",
      "text/plain": [
       "<Figure size 640x480 with 1 Axes>"
      ]
     },
     "metadata": {},
     "output_type": "display_data"
    }
   ],
   "source": [
    "plt.plot(tlosses)\n",
    "plt.plot(vlosses)"
   ]
  },
  {
   "cell_type": "code",
   "execution_count": 107,
   "id": "7be88b07-0dbe-4fdb-85fd-c2971e1d9368",
   "metadata": {},
   "outputs": [],
   "source": []
  },
  {
   "cell_type": "code",
   "execution_count": 108,
   "id": "d1e35a7c-d5e4-4f3f-a502-ff74bcb3eeef",
   "metadata": {},
   "outputs": [],
   "source": []
  },
  {
   "cell_type": "code",
   "execution_count": null,
   "id": "45967718-9341-4198-9466-8928fc56430f",
   "metadata": {},
   "outputs": [],
   "source": []
  },
  {
   "cell_type": "code",
   "execution_count": null,
   "id": "22bdebe8-74d3-442b-b3c7-d5b54fe0ca94",
   "metadata": {},
   "outputs": [],
   "source": []
  }
 ],
 "metadata": {
  "kernelspec": {
   "display_name": "Python 3 (ipykernel)",
   "language": "python",
   "name": "python3"
  },
  "language_info": {
   "codemirror_mode": {
    "name": "ipython",
    "version": 3
   },
   "file_extension": ".py",
   "mimetype": "text/x-python",
   "name": "python",
   "nbconvert_exporter": "python",
   "pygments_lexer": "ipython3",
   "version": "3.8.8"
  }
 },
 "nbformat": 4,
 "nbformat_minor": 5
}
